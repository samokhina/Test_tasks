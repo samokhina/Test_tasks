{
  "nbformat": 4,
  "nbformat_minor": 0,
  "metadata": {
    "colab": {
      "provenance": [],
      "authorship_tag": "ABX9TyMybAw9jHkGLieMTkd3f38K"
    },
    "kernelspec": {
      "name": "python3",
      "display_name": "Python 3"
    },
    "language_info": {
      "name": "python"
    }
  },
  "cells": [
    {
      "cell_type": "markdown",
      "source": [
        "Задача 1.  \n",
        "Есть список. Например: [1,3,1,2,4,1,2].  \n",
        "Нужно преобразовать его в список из элементов, которые встречаются в нем не более 2-х раз.  \n",
        "Каждое третье и последующее вхождение из него убрать. Исходный порядок должен быть сохранен."
      ],
      "metadata": {
        "id": "C9YX-BhUPB23"
      }
    },
    {
      "cell_type": "code",
      "execution_count": 4,
      "metadata": {
        "id": "ja9Sn6zAN6o2"
      },
      "outputs": [],
      "source": [
        "def change_list(list_in):\n",
        "  list_out = []\n",
        "  d = {}                          # словарь, где ключами будут элементы списка, значения - сколько раз элемент встретился в списке\n",
        "  for i in range(0, len(list_in)):\n",
        "    if list_in[i] in d.keys():    # если элемент есть в включах словаря, то его значение увеличиваем на 1\n",
        "      d[list_in[i]] += 1\n",
        "    else:\n",
        "      d[list_in[i]] = 1           # если элемента нет в включах словаря, то добавляем его как ключ в словарь и присваиваем ему значение 1\n",
        "\n",
        "    if d[list_in[i]] < 3:         # если счетчик количества раз, когда элемент встретился в списке < 3, то включаем его в новый список\n",
        "        list_out.append(list_in[i])\n",
        "\n",
        "  return list_out"
      ]
    },
    {
      "cell_type": "code",
      "source": [
        "list_1 =  [1,3,1,2,4,1,2]\n",
        "list_2 = change_list(list_1)\n",
        "list_2"
      ],
      "metadata": {
        "colab": {
          "base_uri": "https://localhost:8080/"
        },
        "id": "uG2CejVGPS-1",
        "outputId": "e5a02f89-2bce-4bd7-e27c-63e3b53cc753"
      },
      "execution_count": 5,
      "outputs": [
        {
          "output_type": "execute_result",
          "data": {
            "text/plain": [
              "[1, 3, 1, 2, 4, 2]"
            ]
          },
          "metadata": {},
          "execution_count": 5
        }
      ]
    },
    {
      "cell_type": "code",
      "source": [
        "#test\n",
        "list_3 = [2,4,6,4,7,2,6,2,8,4]\n",
        "list_4 = change_list(list_3)\n",
        "list_4"
      ],
      "metadata": {
        "colab": {
          "base_uri": "https://localhost:8080/"
        },
        "id": "CpkGqVMoPlQX",
        "outputId": "65ce8873-5a1c-482d-a1fc-49d63f6d963a"
      },
      "execution_count": 6,
      "outputs": [
        {
          "output_type": "execute_result",
          "data": {
            "text/plain": [
              "[2, 4, 6, 4, 7, 2, 6, 8]"
            ]
          },
          "metadata": {},
          "execution_count": 6
        }
      ]
    },
    {
      "cell_type": "code",
      "source": [
        "#test\n",
        "list_5 = [2,2,2,2,4,4,4,4]\n",
        "list_6 = change_list(list_5)\n",
        "list_6"
      ],
      "metadata": {
        "colab": {
          "base_uri": "https://localhost:8080/"
        },
        "id": "UrMYBQYhR8NQ",
        "outputId": "3ac07cc3-72c0-4b47-ccd8-8fb5a2f3b007"
      },
      "execution_count": 7,
      "outputs": [
        {
          "output_type": "execute_result",
          "data": {
            "text/plain": [
              "[2, 2, 4, 4]"
            ]
          },
          "metadata": {},
          "execution_count": 7
        }
      ]
    },
    {
      "cell_type": "markdown",
      "source": [
        "Задача 2.  \n",
        "Дана строка s: str и список слов dictionary: List[str].  \n",
        "Нужно найти слово максимальной длины из dictionary, которое можно получить удалением некоторого количества элементов из s.\n",
        "Если таких слов несколько, то нужно вернуть то, которое имеет минимальный лексиграфический порядок.  \n",
        "s = “abcpldpseplae”, dictionary = [‘ale’, ‘apple’, ‘monkey’, ‘sgfh’] -> ‘apple’’"
      ],
      "metadata": {
        "id": "SFxIQAUnSTxf"
      }
    },
    {
      "cell_type": "code",
      "source": [
        "def find_word(st, word_list):\n",
        "\n",
        "  new_list = []    # список, в который войдут те слова из исходного списка, которые можно получить удалением некоторого количества элементов из исходной строки\n",
        "\n",
        "  for word in word_list:  # каждое слово из исходного списка проверяем на возможность получить из строки удалением элементов\n",
        "    new_word = ''\n",
        "    for symbol in word:  # каждый символ слова ищем в строке, находим индекс его первого вхождения\n",
        "      i = st.find(symbol)\n",
        "      if i != -1:   # если индекс найден, то удаляем его из исходной строки и добавляем в формируемое новое слово\n",
        "        st.replace(st[i], '')\n",
        "        new_word += symbol\n",
        "    if new_word == word:   # если новое слово соответствует исходному, значит, слово удовлетворяет условию, добавляем в список new_dict\n",
        "      new_list.append(word)\n",
        "\n",
        "    longest_words = sorted([w for w in new_list if len(w) == len(max(new_list, key=len))])  # находим все слова с максимальной длиной в new_dict и приводим в лексиграфический порядок\n",
        "\n",
        "  return longest_words[0]  # берем первое по порядку слово"
      ],
      "metadata": {
        "id": "3LV3vbl6SVaL"
      },
      "execution_count": 10,
      "outputs": []
    },
    {
      "cell_type": "code",
      "source": [
        "s = 'abcpldpseplae'\n",
        "dictionary = ['ale', 'apple', 'monkey', 'sgfh']\n",
        "find_word(s, dictionary)"
      ],
      "metadata": {
        "colab": {
          "base_uri": "https://localhost:8080/",
          "height": 36
        },
        "id": "Jks67YjJTE_u",
        "outputId": "d374549b-642b-4a39-df27-36d3bb996dc9"
      },
      "execution_count": 11,
      "outputs": [
        {
          "output_type": "execute_result",
          "data": {
            "text/plain": [
              "'apple'"
            ],
            "application/vnd.google.colaboratory.intrinsic+json": {
              "type": "string"
            }
          },
          "metadata": {},
          "execution_count": 11
        }
      ]
    },
    {
      "cell_type": "code",
      "source": [
        "#test\n",
        "s2 = 'sabcvpldpsepltae'\n",
        "dictionary2 = ['ale', 'sveta', 'abpdl', 'apple', 'monkey', 'sgfh']\n",
        "find_word(s2, dictionary2)"
      ],
      "metadata": {
        "colab": {
          "base_uri": "https://localhost:8080/",
          "height": 36
        },
        "id": "hyWQfk6PVaE6",
        "outputId": "08f895f0-ab26-44e9-cac6-f180389a0c7d"
      },
      "execution_count": 12,
      "outputs": [
        {
          "output_type": "execute_result",
          "data": {
            "text/plain": [
              "'abpdl'"
            ],
            "application/vnd.google.colaboratory.intrinsic+json": {
              "type": "string"
            }
          },
          "metadata": {},
          "execution_count": 12
        }
      ]
    },
    {
      "cell_type": "code",
      "source": [
        "#test\n",
        "s3 = 'sabcvpldpsepltae'\n",
        "dictionary3 = ['ale', 'sveta', 'monkey', 'sgfh']\n",
        "find_word(s3, dictionary3)"
      ],
      "metadata": {
        "colab": {
          "base_uri": "https://localhost:8080/",
          "height": 36
        },
        "id": "iNewEL5mVjLp",
        "outputId": "1884db59-3ad1-4bfa-d2c8-615103baaf44"
      },
      "execution_count": 13,
      "outputs": [
        {
          "output_type": "execute_result",
          "data": {
            "text/plain": [
              "'sveta'"
            ],
            "application/vnd.google.colaboratory.intrinsic+json": {
              "type": "string"
            }
          },
          "metadata": {},
          "execution_count": 13
        }
      ]
    },
    {
      "cell_type": "markdown",
      "source": [
        "Задача 3.  \n",
        "Найти количество чисел меньше заданного для каждого элемента списка.  \n",
        "Например: [4,3,1,4] => [2,1,0,2]"
      ],
      "metadata": {
        "id": "BJ1Sk9ApV00N"
      }
    },
    {
      "cell_type": "code",
      "source": [
        "# Если я правильно понимаю задание:\n",
        "# для каждого числа исходного списка смотрим, сколько чисел во всем списке меньше этого числа,\n",
        "# и сохраняем результат в новый список.\n",
        "\n",
        "def count_items_less(list_in):\n",
        "  list_out = []\n",
        "  for i in range(0, len(list_in)):  # для каждого элемента списка заводим счетчик\n",
        "    count = 0\n",
        "    for j in set(list_in):    # сравниваем с каждым элементом множества чисел исходного списка\n",
        "      if list_in[i] > j:      # если число больше элемента множества, счетчик увеличиваем на 1\n",
        "        count +=1\n",
        "    list_out.append(count)  # в новый список добавляем счетчик для каждого элемента исходного списка\n",
        "\n",
        "  return list_out\n"
      ],
      "metadata": {
        "id": "m8MucMkAV14c"
      },
      "execution_count": 15,
      "outputs": []
    },
    {
      "cell_type": "code",
      "source": [
        "list_7 = [4,3,1,4]\n",
        "list_8 = count_items_less(list_7)\n",
        "list_8"
      ],
      "metadata": {
        "colab": {
          "base_uri": "https://localhost:8080/"
        },
        "id": "y0OFs0qsWe5F",
        "outputId": "3e97c87e-cbe7-47f2-a123-f3132d756e4f"
      },
      "execution_count": 16,
      "outputs": [
        {
          "output_type": "execute_result",
          "data": {
            "text/plain": [
              "[2, 1, 0, 2]"
            ]
          },
          "metadata": {},
          "execution_count": 16
        }
      ]
    },
    {
      "cell_type": "code",
      "source": [
        "# test\n",
        "list_9 = [2, 4, 6, 4, 7, 2, 6, 8]\n",
        "list_10 = count_items_less(list_9)\n",
        "list_10"
      ],
      "metadata": {
        "colab": {
          "base_uri": "https://localhost:8080/"
        },
        "id": "_Px0r-ghWl7G",
        "outputId": "52f3893c-9707-4695-e205-c2e9bd2784c6"
      },
      "execution_count": 17,
      "outputs": [
        {
          "output_type": "execute_result",
          "data": {
            "text/plain": [
              "[0, 1, 2, 1, 3, 0, 2, 4]"
            ]
          },
          "metadata": {},
          "execution_count": 17
        }
      ]
    },
    {
      "cell_type": "markdown",
      "source": [
        "Задача 4.  \n",
        "Есть список, состоящий из первых 20 чисел последовательности Фибоначчи\n",
        "(каждый новый элемент – это сумма двух предыдущих).\n",
        "Выведите все элементы, которые делятся на 3 без остатка."
      ],
      "metadata": {
        "id": "N-WZTCdDWtwG"
      }
    },
    {
      "cell_type": "code",
      "source": [
        "fib = [1, 1]\n",
        "for i in range(2,20):   # первые 20 чисел последовательности Фибоначчи\n",
        "  fib.append(fib[i-1]+fib[i-2])\n",
        "print(len(fib), fib)\n",
        "print('===========')\n",
        "\n",
        "fib_new = []\n",
        "for i in range(len(fib)):\n",
        "  if fib[i] % 3 == 0:\n",
        "    fib_new.append(fib[i])\n",
        "\n",
        "fib_new"
      ],
      "metadata": {
        "colab": {
          "base_uri": "https://localhost:8080/"
        },
        "id": "-gFZDS6YXLOd",
        "outputId": "687a2152-a062-44eb-8b05-9a4052a8566c"
      },
      "execution_count": null,
      "outputs": [
        {
          "output_type": "stream",
          "name": "stdout",
          "text": [
            "20 [1, 1, 2, 3, 5, 8, 13, 21, 34, 55, 89, 144, 233, 377, 610, 987, 1597, 2584, 4181, 6765]\n",
            "===========\n"
          ]
        },
        {
          "output_type": "execute_result",
          "data": {
            "text/plain": [
              "[3, 21, 144, 987, 6765]"
            ]
          },
          "metadata": {},
          "execution_count": 19
        }
      ]
    },
    {
      "cell_type": "markdown",
      "source": [
        "Задача 5.  \n",
        "Даны списки:  \n",
        "a = [1, 1, 2, 3, 5, 8, 13, 21, 34, 55, 89];  \n",
        "b = [1, 2, 3, 4, 5, 6, 7, 8, 9, 10, 11, 12, 13].  \n",
        "a) Выведите элементы a, которые есть в списке а и нет в списке b.  \n",
        "b) Выведите элементы a, которые есть и в списке a, и в списке b.  \n",
        "с) Выведите элементы списков a и b, которые есть только в одном из двух\n",
        "списков  "
      ],
      "metadata": {
        "id": "YwesPzMGX63F"
      }
    },
    {
      "cell_type": "code",
      "source": [
        "# a) Выведите элементы a, которые есть в списке а и нет в списке b.\n",
        "a = [1, 1, 2, 3, 5, 8, 13, 21, 34, 55, 89]\n",
        "b = [1, 2, 3, 4, 5, 6, 7, 8, 9, 10, 11, 12, 13]\n",
        "\n",
        "a_new = []\n",
        "for i in range(len(a)):\n",
        "  if a[i] in set(a).difference(set(b)):\n",
        "    a_new.append(a[i])\n",
        "\n",
        "a_new"
      ],
      "metadata": {
        "colab": {
          "base_uri": "https://localhost:8080/"
        },
        "id": "_wave7X1Ye2S",
        "outputId": "27e2050d-6191-4492-f6d3-d822cd07f1ec"
      },
      "execution_count": null,
      "outputs": [
        {
          "output_type": "execute_result",
          "data": {
            "text/plain": [
              "[21, 34, 55, 89]"
            ]
          },
          "metadata": {},
          "execution_count": 21
        }
      ]
    },
    {
      "cell_type": "code",
      "source": [
        "# b) Выведите элементы a, которые есть и в списке a, и в списке b.\n",
        "a = [1, 1, 2, 3, 5, 8, 13, 21, 34, 55, 89]\n",
        "b = [1, 2, 3, 4, 5, 6, 7, 8, 9, 10, 11, 12, 13]\n",
        "\n",
        "a_new2 = []\n",
        "for i in range(len(a)):\n",
        "  if a[i] in set(a).intersection(set(b)):\n",
        "    a_new2.append(a[i])\n",
        "\n",
        "a_new2"
      ],
      "metadata": {
        "colab": {
          "base_uri": "https://localhost:8080/"
        },
        "id": "fvms0J5KZDph",
        "outputId": "e0b40f3e-56be-490c-8c51-2c90b4c9a4b5"
      },
      "execution_count": null,
      "outputs": [
        {
          "output_type": "execute_result",
          "data": {
            "text/plain": [
              "[1, 1, 2, 3, 5, 8, 13]"
            ]
          },
          "metadata": {},
          "execution_count": 23
        }
      ]
    },
    {
      "cell_type": "code",
      "source": [
        "# с) Выведите элементы списков a и b, которые есть только в одном из двух списков\n",
        "a = [1, 1, 2, 3, 5, 8, 13, 21, 34, 55, 89]\n",
        "b = [1, 2, 3, 4, 5, 6, 7, 8, 9, 10, 11, 12, 13]\n",
        "\n",
        "a_b = []\n",
        "for i in range(len(a)):\n",
        "  if a[i] not in set(a).intersection(set(b)):\n",
        "    a_b.append(a[i])\n",
        "for i in range(len(b)):\n",
        "  if b[i] not in set(a).intersection(set(b)):\n",
        "    a_b.append(b[i])\n",
        "\n",
        "a_b.sort()\n",
        "a_b"
      ],
      "metadata": {
        "colab": {
          "base_uri": "https://localhost:8080/"
        },
        "id": "GMNvHShrZ26n",
        "outputId": "0bbaff30-91cf-4f90-ac01-5867bd341185"
      },
      "execution_count": null,
      "outputs": [
        {
          "output_type": "execute_result",
          "data": {
            "text/plain": [
              "[4, 6, 7, 9, 10, 11, 12, 21, 34, 55, 89]"
            ]
          },
          "metadata": {},
          "execution_count": 25
        }
      ]
    },
    {
      "cell_type": "markdown",
      "source": [
        "Задача 6.  \n",
        "\n",
        "Даны два произвольных 4х-значных числа (в которых цифры не повторяются).  \n",
        "a)\tВыведите количество совпадающих цифр (которые есть и в первом числе, и во втором числе).  \n",
        "b)\tВыведите количество совпадающих цифр (которые есть и в первом числе, и во втором числе), позиции которых совпадают.  \n",
        "\n",
        "Пример: 3729 и 5723   \n",
        "\n",
        "a)\t3 цифры (3, 7, 2)  \n",
        "b)\t2 цифры (7, 2)  "
      ],
      "metadata": {
        "id": "1K-GO_jNa-69"
      }
    },
    {
      "cell_type": "code",
      "source": [
        "# a) Выведите количество совпадающих цифр (которые есть и в первом числе, и во втором числе).\n",
        "a = 3729\n",
        "b = 5723\n",
        "\n",
        "a_list = list(str(a))\n",
        "b_list = list(str(b))\n",
        "\n",
        "print(len(set(a_list).intersection(set(b_list))))\n",
        "print(set(a_list).intersection(set(b_list)))"
      ],
      "metadata": {
        "colab": {
          "base_uri": "https://localhost:8080/"
        },
        "id": "ndFw_j4-bB5N",
        "outputId": "66108e16-734c-4586-ef85-44b86fc2385d"
      },
      "execution_count": null,
      "outputs": [
        {
          "output_type": "stream",
          "name": "stdout",
          "text": [
            "3\n",
            "{'2', '7', '3'}\n"
          ]
        }
      ]
    },
    {
      "cell_type": "code",
      "source": [
        "# b) Выведите количество совпадающих цифр (которые есть и в первом числе, и во втором числе), позиции которых совпадают.\n",
        "match_digits = []\n",
        "for i in range(4):\n",
        "    if a_list[i] == b_list[i]:\n",
        "        match_digits.append(a_list[i])\n",
        "\n",
        "print(match_digits)\n",
        "print(len(match_digits))"
      ],
      "metadata": {
        "colab": {
          "base_uri": "https://localhost:8080/"
        },
        "id": "TexQgtFbbTXh",
        "outputId": "15f67c7d-6309-4086-f76a-b9e84624d110"
      },
      "execution_count": null,
      "outputs": [
        {
          "output_type": "stream",
          "name": "stdout",
          "text": [
            "['7', '2']\n",
            "2\n"
          ]
        }
      ]
    },
    {
      "cell_type": "markdown",
      "source": [
        "Задача 7.    \n",
        "\n",
        "Перемножьте цифры любого натурального числа.\n"
      ],
      "metadata": {
        "id": "ItqJ6Kqc5PrH"
      }
    },
    {
      "cell_type": "code",
      "source": [
        "a = 237\n",
        "\n",
        "a_l = list(str(a))\n",
        "result = 1\n",
        "for i in range(len(a_l)):\n",
        "    result *= int(a_l[i])\n",
        "\n",
        "print(result)"
      ],
      "metadata": {
        "colab": {
          "base_uri": "https://localhost:8080/"
        },
        "id": "G3wHeKez5Qtx",
        "outputId": "52210b8d-685f-4c37-ffb4-d4b0f1eab1b8"
      },
      "execution_count": 29,
      "outputs": [
        {
          "output_type": "stream",
          "name": "stdout",
          "text": [
            "42\n"
          ]
        }
      ]
    },
    {
      "cell_type": "markdown",
      "source": [
        "Задача 8.     \n",
        "\n",
        "Имеется вклад в размере X рублей сроком на Y лет под Z % годовых.\n",
        "Начисленные за год проценты прибавляются к сумме вклада.  \n",
        "\n",
        "Необходимо вывести сумму вклада через Y лет.\n"
      ],
      "metadata": {
        "id": "hoKni-Wh5s4S"
      }
    },
    {
      "cell_type": "code",
      "source": [
        "x = 100\n",
        "y = 3\n",
        "z = 10\n",
        "\n",
        "result = x*(1+z/100)**y\n",
        "\n",
        "result"
      ],
      "metadata": {
        "id": "7Dt5o2IQ5rtF",
        "colab": {
          "base_uri": "https://localhost:8080/"
        },
        "outputId": "a3cb8d18-234f-40fe-bfa1-2f3445794f38"
      },
      "execution_count": 31,
      "outputs": [
        {
          "output_type": "execute_result",
          "data": {
            "text/plain": [
              "133.10000000000005"
            ]
          },
          "metadata": {},
          "execution_count": 31
        }
      ]
    },
    {
      "cell_type": "markdown",
      "source": [
        "Задача 9.    \n",
        "\n",
        "Дано: текст, состоящий из нескольких предложений.   \n",
        "\n",
        "a)\tНеобходимо вывести количество предложений.  \n",
        "b)\tНеобходимо вывести количество слов.  \n",
        "c)\tНеобходимо вывести количество слов, встречающихся в тексте более одного раза.  \n",
        "d)\tНеобходимо вывести наиболее встречающееся слово.  \n",
        "\n"
      ],
      "metadata": {
        "id": "5QcffOKv7upB"
      }
    },
    {
      "cell_type": "code",
      "source": [
        "sample_text = \"\"\"\n",
        "Она несла в руках отвратительные, тревожные желтые цветы. Черт их знает, как их зовут, но они первые почему-то появляются в Москве.\n",
        "И эти цветы очень отчетливо выделялись на черном ее весеннем пальто. Она несла желтые цветы! Нехороший цвет.\n",
        "Она повернула с Тверской в переулок и тут обернулась. Ну, Тверскую вы знаете?\n",
        "По Тверской шли тысячи людей, но я вам ручаюсь, что увидела она меня одного и поглядела не то что тревожно, а даже как будто болезненно.\n",
        "И меня поразила не столько ее красота, сколько необыкновенное, никем не виданное одиночество в глазах!\n",
        "Повинуясь этому желтому знаку, я тоже свернул в переулок и пошел по ее следам. Мы шли по кривому, скучному переулку безмолвно, я по одной стороне, а она по другой.\n",
        "И не было, вообразите, в переулке ни души.\n",
        "Я мучился, потому что мне показалось, что с нею необходимо говорить, и тревожился, что я не вымолвлю ни одного слова, а она уйдет, и я никогда ее более не увижу...\n",
        "\"\"\""
      ],
      "metadata": {
        "id": "UDk-QJ6e7y_i"
      },
      "execution_count": 32,
      "outputs": []
    },
    {
      "cell_type": "code",
      "source": [
        "# a) Необходимо вывести количество предложений.\n",
        "sample_text.count('.') + sample_text.count('!') + sample_text.count('?') + sample_text.count('...')"
      ],
      "metadata": {
        "colab": {
          "base_uri": "https://localhost:8080/"
        },
        "id": "aixcKr_o6Zzs",
        "outputId": "0ef2a5e9-f971-4464-d512-576859790d11"
      },
      "execution_count": 33,
      "outputs": [
        {
          "output_type": "execute_result",
          "data": {
            "text/plain": [
              "16"
            ]
          },
          "metadata": {},
          "execution_count": 33
        }
      ]
    },
    {
      "cell_type": "code",
      "source": [
        "# b) Необходимо вывести количество слов.\n",
        "len(sample_text.replace('\\n', ' ').split(' ')[1:-1])  # [1:-1] - пустые строки - перенос строки, где тройные кавычки"
      ],
      "metadata": {
        "colab": {
          "base_uri": "https://localhost:8080/"
        },
        "id": "MbDl6xkzcH5n",
        "outputId": "aca6e907-3d61-43f2-8261-6fcd555ed497"
      },
      "execution_count": 45,
      "outputs": [
        {
          "output_type": "execute_result",
          "data": {
            "text/plain": [
              "158"
            ]
          },
          "metadata": {},
          "execution_count": 45
        }
      ]
    },
    {
      "cell_type": "code",
      "source": [
        "import pandas as pd"
      ],
      "metadata": {
        "id": "T_VR1Ik2kjT0"
      },
      "execution_count": 46,
      "outputs": []
    },
    {
      "cell_type": "code",
      "source": [
        "# c) Необходимо вывести количество слов, встречающихся в тексте более одного раза.\n",
        "word_count = pd.Series([x.strip(' ,.!?').lower() for x in sample_text.replace('\\n', ' ').split(' ')[1:-1]]).value_counts()\n",
        "print('c) ', len(word_count[word_count > 1]))\n",
        "\n",
        "# d) Необходимо вывести наиболее встречающееся слово.\n",
        "print('d) ', word_count.index[0])"
      ],
      "metadata": {
        "colab": {
          "base_uri": "https://localhost:8080/"
        },
        "id": "9NWly53Ntkbj",
        "outputId": "93ea432a-fca2-48cb-adfc-25808ce07941"
      },
      "execution_count": 72,
      "outputs": [
        {
          "output_type": "stream",
          "name": "stdout",
          "text": [
            "c)  22\n",
            "d)  и\n"
          ]
        }
      ]
    }
  ]
}